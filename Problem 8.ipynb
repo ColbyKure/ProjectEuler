{
 "cells": [
  {
   "cell_type": "markdown",
   "metadata": {},
   "source": [
    "# Project Euler The four adjacent digits in the 1000-digit number that have the greatest product are 9 × 9 × 8 × 9 = 5832.\n",
    "\n",
    "73167176531330624919225119674426574742355349194934\n",
    "96983520312774506326239578318016984801869478851843\n",
    "85861560789112949495459501737958331952853208805511\n",
    "12540698747158523863050715693290963295227443043557\n",
    "66896648950445244523161731856403098711121722383113\n",
    "62229893423380308135336276614282806444486645238749\n",
    "30358907296290491560440772390713810515859307960866\n",
    "70172427121883998797908792274921901699720888093776\n",
    "65727333001053367881220235421809751254540594752243\n",
    "52584907711670556013604839586446706324415722155397\n",
    "53697817977846174064955149290862569321978468622482\n",
    "83972241375657056057490261407972968652414535100474\n",
    "82166370484403199890008895243450658541227588666881\n",
    "16427171479924442928230863465674813919123162824586\n",
    "17866458359124566529476545682848912883142607690042\n",
    "24219022671055626321111109370544217506941658960408\n",
    "07198403850962455444362981230987879927244284909188\n",
    "84580156166097919133875499200524063689912560717606\n",
    "05886116467109405077541002256983155200055935729725\n",
    "71636269561882670428252483600823257530420752963450\n",
    "\n",
    "Find the thirteen adjacent digits in the 1000-digit number that have the greatest product. What is the value of this product?\n",
    "\n",
    "The four adjacent digits in the 1000-digit number that have the greatest product are 9 × 9 × 8 × 9 = 5832."
   ]
  },
  {
   "cell_type": "code",
   "execution_count": 1,
   "metadata": {},
   "outputs": [
    {
     "name": "stdout",
     "output_type": "stream",
     "text": [
      "['73167176531330624919225119674426574742355349194934', '96983520312774506326239578318016984801869478851843', '85861560789112949495459501737958331952853208805511', '12540698747158523863050715693290963295227443043557', '66896648950445244523161731856403098711121722383113', '62229893423380308135336276614282806444486645238749', '30358907296290491560440772390713810515859307960866', '70172427121883998797908792274921901699720888093776', '65727333001053367881220235421809751254540594752243', '52584907711670556013604839586446706324415722155397', '53697817977846174064955149290862569321978468622482', '83972241375657056057490261407972968652414535100474', '82166370484403199890008895243450658541227588666881', '16427171479924442928230863465674813919123162824586', '17866458359124566529476545682848912883142607690042', '24219022671055626321111109370544217506941658960408', '07198403850962455444362981230987879927244284909188', '84580156166097919133875499200524063689912560717606', '05886116467109405077541002256983155200055935729725', '71636269561882670428252483600823257530420752963450']\n"
     ]
    }
   ],
   "source": [
    "buffer = [\"73167176531330624919225119674426574742355349194934\",\n",
    "          \"96983520312774506326239578318016984801869478851843\",\n",
    "          \"85861560789112949495459501737958331952853208805511\",\n",
    "          \"12540698747158523863050715693290963295227443043557\",\n",
    "          \"66896648950445244523161731856403098711121722383113\",\n",
    "          \"62229893423380308135336276614282806444486645238749\",\n",
    "          \"30358907296290491560440772390713810515859307960866\",\n",
    "          \"70172427121883998797908792274921901699720888093776\",\n",
    "          \"65727333001053367881220235421809751254540594752243\",\n",
    "          \"52584907711670556013604839586446706324415722155397\",\n",
    "          \"53697817977846174064955149290862569321978468622482\",\n",
    "          \"83972241375657056057490261407972968652414535100474\",\n",
    "          \"82166370484403199890008895243450658541227588666881\",\n",
    "          \"16427171479924442928230863465674813919123162824586\",\n",
    "          \"17866458359124566529476545682848912883142607690042\",\n",
    "          \"24219022671055626321111109370544217506941658960408\",\n",
    "          \"07198403850962455444362981230987879927244284909188\",\n",
    "          \"84580156166097919133875499200524063689912560717606\",\n",
    "          \"05886116467109405077541002256983155200055935729725\",\n",
    "          \"71636269561882670428252483600823257530420752963450\"]\n",
    "\n",
    "print(buffer)"
   ]
  },
  {
   "cell_type": "code",
   "execution_count": 2,
   "metadata": {},
   "outputs": [
    {
     "name": "stdout",
     "output_type": "stream",
     "text": [
      "96983520312774506326239578318016984801869478851843\n"
     ]
    }
   ],
   "source": [
    "print(buffer[1])"
   ]
  },
  {
   "cell_type": "code",
   "execution_count": 3,
   "metadata": {},
   "outputs": [
    {
     "name": "stdout",
     "output_type": "stream",
     "text": [
      "9\n"
     ]
    }
   ],
   "source": [
    "print(buffer[1][0])"
   ]
  },
  {
   "cell_type": "code",
   "execution_count": 4,
   "metadata": {},
   "outputs": [
    {
     "name": "stdout",
     "output_type": "stream",
     "text": [
      "50\n",
      "20\n"
     ]
    }
   ],
   "source": [
    "print(len(buffer[0]))\n",
    "print(len(buffer))"
   ]
  },
  {
   "cell_type": "code",
   "execution_count": 5,
   "metadata": {},
   "outputs": [],
   "source": [
    "def prod_list(numbers):\n",
    "    #print(numbers)\n",
    "    if numbers.count(0) >= 1:\n",
    "        return 0\n",
    "    prod = 1\n",
    "    for number in numbers:\n",
    "        prod *= number\n",
    "    return prod"
   ]
  },
  {
   "cell_type": "code",
   "execution_count": 6,
   "metadata": {},
   "outputs": [
    {
     "name": "stdout",
     "output_type": "stream",
     "text": [
      "Testing prod_list function...\n",
      "errors in numpy.prod:  0.9979\n",
      "errors in prod_list:  0.0\n"
     ]
    }
   ],
   "source": [
    "import numpy\n",
    "import random\n",
    "\n",
    "print(\"Testing prod_list function...\")\n",
    "\n",
    "list = []\n",
    "numpy_error = 0\n",
    "my_error = 0\n",
    "real_prod = 1\n",
    "for i in range(0,10000):\n",
    "    if (i % 1000) == 0:\n",
    "        list.clear()\n",
    "        real_prod = 1\n",
    "    digit = random.randint(1,9999)\n",
    "    list.append(digit)\n",
    "    real_prod *= digit\n",
    "    # cross checking function with numpy\n",
    "    if prod_list(list) != numpy.prod(list):\n",
    "        numpy_error += 1\n",
    "        #print(list)\n",
    "        #print(prod_list(list))\n",
    "        #print(numpy.prod(list))\n",
    "    if prod_list(list) != real_prod:\n",
    "        my_error += 1\n",
    "print(\"errors in numpy.prod: \", numpy_error/10000)\n",
    "print(\"errors in prod_list: \", my_error/10000)"
   ]
  },
  {
   "cell_type": "markdown",
   "metadata": {},
   "source": [
    "For some reason numpy.prod does not seem reliable 99.8% of the time. Looking closer sometimes it returns negative numbers likely as a result of overflow (only use positive numbers) so creating a custom function ad unit testing was probably the best way forward with this problem.\n",
    "\n",
    "Also it tests at varied ranges of lists (1 to 1000) and larger variation of numbers than single digits (up to 4 digits).\n",
    "This should instill a high confidence in the prod_list() function at producing correct products. "
   ]
  },
  {
   "cell_type": "code",
   "execution_count": 7,
   "metadata": {},
   "outputs": [
    {
     "name": "stdout",
     "output_type": "stream",
     "text": [
      "max prod with wrap:      23514624000\n",
      "max prod without wrap:   5377010688\n",
      "--- 0.003964900970458984 seconds ---\n"
     ]
    }
   ],
   "source": [
    "import time\n",
    "start_time = time.time()\n",
    "\n",
    "# just directly fill in the first 13 numbers\n",
    "list = [7,3,1,6,7,1,7,6,5,3,1,3,3]\n",
    "\n",
    "i = 0\n",
    "j = 13\n",
    "max_prod_wrap = prod_list(list)\n",
    "max_prod_no_wrap = prod_list(list)\n",
    "while True:\n",
    "    list.pop(0)\n",
    "    list.append(int(buffer[i][j]))  # need numeric value\n",
    "    \n",
    "    curr_prod = prod_list(list)\n",
    "    if curr_prod > max_prod_wrap:\n",
    "        max_prod_wrap = curr_prod\n",
    "    if (j >= 12) & (curr_prod > max_prod_no_wrap):\n",
    "        max_prod_no_wrap = curr_prod\n",
    "    \n",
    "    # iterate i and j in 20 by 50 char matrix\n",
    "    j += 1\n",
    "    if j >= 50:\n",
    "        j = 0\n",
    "        i += 1\n",
    "        \n",
    "    if i >= 20:\n",
    "        break \n",
    "\n",
    "print(\"max prod with wrap:     \", max_prod_wrap)\n",
    "print(\"max prod without wrap:  \", max_prod_no_wrap)\n",
    "\n",
    "print(\"--- %s seconds ---\" % (time.time() - start_time))"
   ]
  },
  {
   "cell_type": "markdown",
   "metadata": {},
   "source": [
    "Couldn't run any solution online to compare, but it seems like the correct.\n",
    "23,514,624,000 for wrapping text which doesnt seem to fit the question\n",
    "5,377,010,688 for no wrapping text which does seem to fit the question"
   ]
  },
  {
   "cell_type": "code",
   "execution_count": null,
   "metadata": {},
   "outputs": [],
   "source": []
  }
 ],
 "metadata": {
  "kernelspec": {
   "display_name": "Python 3",
   "language": "python",
   "name": "python3"
  },
  "language_info": {
   "codemirror_mode": {
    "name": "ipython",
    "version": 3
   },
   "file_extension": ".py",
   "mimetype": "text/x-python",
   "name": "python",
   "nbconvert_exporter": "python",
   "pygments_lexer": "ipython3",
   "version": "3.7.3"
  }
 },
 "nbformat": 4,
 "nbformat_minor": 2
}
