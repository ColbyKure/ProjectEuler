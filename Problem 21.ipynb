{
 "cells": [
  {
   "cell_type": "markdown",
   "metadata": {},
   "source": [
    "# Project Euler Problem 21\n",
    "\n",
    "Let $ d(n) $ be defined as the sum of proper divisors of $ n $ (numbers less than $ n $ which divide evenly into $ n $).<br>\n",
    "If $ d(a) = b $ and $ d(b) = a $, where $ a ≠ b $, then $ a $ and $ b $ are an **amicable pair** and each of $ a $ and $ b $ are called **amicable numbers**.\n",
    "\n",
    "For example, the proper divisors of 220 are 1, 2, 4, 5, 10, 11, 20, 22, 44, 55 and 110; therefore d(220) = 284. The proper divisors of 284 are 1, 2, 4, 71 and 142; so d(284) = 220.\n",
    "\n",
    "**Evaluate the sum of all the amicable numbers under 10000.**"
   ]
  },
  {
   "cell_type": "code",
   "execution_count": 1,
   "metadata": {},
   "outputs": [],
   "source": [
    "def naive_dn(n):\n",
    "    sum = 0\n",
    "    for i in range(1, int(n/2)+1):\n",
    "        if (n % i) == 0:\n",
    "            sum += i\n",
    "    return sum"
   ]
  },
  {
   "cell_type": "code",
   "execution_count": 2,
   "metadata": {
    "scrolled": false
   },
   "outputs": [],
   "source": [
    "for i in range(115, 130):\n",
    "    print(i, naive_dn(i))\n",
    "print(220,naive_dn(220))\n",
    "print(284,naive_dn(284))"
   ]
  },
  {
   "cell_type": "markdown",
   "metadata": {},
   "source": [
    "Created a function that sums the proper divisors and checked first 15 values and the example for correctness. "
   ]
  },
  {
   "cell_type": "code",
   "execution_count": 3,
   "metadata": {},
   "outputs": [],
   "source": [
    "import numpy as np"
   ]
  },
  {
   "cell_type": "markdown",
   "metadata": {},
   "source": [
    "Using numpy to create an array of 10,000 zeros "
   ]
  },
  {
   "cell_type": "code",
   "execution_count": 4,
   "metadata": {},
   "outputs": [],
   "source": [
    "arr = np.zeros(10000)"
   ]
  },
  {
   "cell_type": "code",
   "execution_count": 18,
   "metadata": {},
   "outputs": [
    {
     "name": "stdout",
     "output_type": "stream",
     "text": [
      "6\n",
      "28\n",
      "amicable 220 284.0\n",
      "amicable 284 220.0\n",
      "496\n",
      "amicable 1184 1210.0\n",
      "amicable 1210 1184.0\n",
      "amicable 2620 2924.0\n",
      "amicable 2924 2620.0\n",
      "amicable 5020 5564.0\n",
      "amicable 5564 5020.0\n",
      "amicable 6232 6368.0\n",
      "amicable 6368 6232.0\n",
      "8128\n",
      "SOLUTION 40284.0\n",
      "[0.0000e+00 1.0000e+00 1.0000e+00 ... 5.0020e+03 5.9130e+03 1.4211e+04]\n",
      "284.0 284\n"
     ]
    }
   ],
   "source": [
    "for i in range(1,10001):\n",
    "    arr[i-1] = int(naive_dn(i))\n",
    "sum = 0\n",
    "for i in range(0,10000):\n",
    "    if arr[i] >= 10000:\n",
    "        continue\n",
    "    if (i+1) == arr[i]:\n",
    "        sum += 2*(i + 1)\n",
    "        print(i+1)\n",
    "    elif (i+1) == int(arr[int(arr[i])-1]):\n",
    "        sum += (i + 1 + int(arr[i]))\n",
    "        print(\"amicable\", i+1, arr[i])\n",
    "print(\"SOLUTION\", sum/2)\n",
    "print(arr)\n",
    "\n",
    "print(arr[219], naive_dn(220))"
   ]
  },
  {
   "cell_type": "markdown",
   "metadata": {},
   "source": [
    "we overcount the amicable numbers by a factor of 2 so the sum is divided by 2 and numbers that are amicable with themselves is multiplied by two when summed inorder to keep this overcounting for all values in sum."
   ]
  },
  {
   "cell_type": "code",
   "execution_count": null,
   "metadata": {},
   "outputs": [],
   "source": []
  },
  {
   "cell_type": "code",
   "execution_count": null,
   "metadata": {},
   "outputs": [],
   "source": []
  }
 ],
 "metadata": {
  "kernelspec": {
   "display_name": "Python 3",
   "language": "python",
   "name": "python3"
  },
  "language_info": {
   "codemirror_mode": {
    "name": "ipython",
    "version": 3
   },
   "file_extension": ".py",
   "mimetype": "text/x-python",
   "name": "python",
   "nbconvert_exporter": "python",
   "pygments_lexer": "ipython3",
   "version": "3.7.3"
  }
 },
 "nbformat": 4,
 "nbformat_minor": 2
}
