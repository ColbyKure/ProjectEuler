{
 "cells": [
  {
   "cell_type": "markdown",
   "metadata": {},
   "source": [
    "# Project Euler Problem 9\n",
    "\n",
    "**A Pythagorean triplet is a set of three natural numbers, a < b < c, for which,**\n",
    "\n",
    "                                                        a^2 + b^2 = c^2\n",
    "                                                            \n",
    "**For example, 32 + 42 = 9 + 16 = 25 = 52.**\n",
    "\n",
    "**There exists exactly one Pythagorean triplet for which a + b + c = 1000.**\n",
    "**Find the product of a * b * c.**"
   ]
  },
  {
   "cell_type": "code",
   "execution_count": 1,
   "metadata": {},
   "outputs": [],
   "source": [
    "# tests whether or not this is the primitive triple we want\n",
    "def found_triple(triple):\n",
    "    sum = triple[0] + triple[1] + triple[2]\n",
    "    if (1000 % sum) == 0:\n",
    "        print(triple)\n",
    "        print(1000/sum)\n",
    "        print(sum)\n",
    "        return True\n",
    "    return False"
   ]
  },
  {
   "cell_type": "code",
   "execution_count": 2,
   "metadata": {},
   "outputs": [],
   "source": [
    "from math import gcd\n",
    "\n",
    "# Implements theorem on wikipedia to generate primitive pythagorean triples\n",
    "# Then uses found_triple() to test if this is the correct primitive solution\n",
    "def gen_triples(c_lim):\n",
    "    print(\"in triple\")\n",
    "    m = 2\n",
    "    n = 1\n",
    "    a = m*m - n*n \n",
    "    b = 2*m*n \n",
    "    c = m*m + n*n\n",
    "    triples = [(a,b,c)]\n",
    "    while c < c_lim:\n",
    "        m += 1\n",
    "        n = 1\n",
    "        while True:\n",
    "            if (gcd(m,n) != 1) | ((m%2) & (n%2)):\n",
    "                n += 1\n",
    "                if n >= m:\n",
    "                    break\n",
    "                continue\n",
    "            a = m*m - n*n \n",
    "            b = 2*m*n \n",
    "            c = m*m + n*n\n",
    "            triple = (a,b,c)\n",
    "            if found_triple(triple):\n",
    "                print(\"FOUND! \", triple)\n",
    "            triples.append(triple)\n",
    "            n += 1\n",
    "            if n >= m:\n",
    "                break\n",
    "            \n",
    "    return triples\n",
    "    "
   ]
  },
  {
   "cell_type": "code",
   "execution_count": 3,
   "metadata": {},
   "outputs": [
    {
     "name": "stdout",
     "output_type": "stream",
     "text": [
      "in triple\n",
      "(15, 8, 17)\n",
      "25.0\n",
      "40\n",
      "FOUND!  (15, 8, 17)\n",
      "[(3, 4, 5), (5, 12, 13), (15, 8, 17), (7, 24, 25), (21, 20, 29), (9, 40, 41), (35, 12, 37), (11, 60, 61), (45, 28, 53), (33, 56, 65), (13, 84, 85), (63, 16, 65), (55, 48, 73), (39, 80, 89), (15, 112, 113), (77, 36, 85), (65, 72, 97), (17, 144, 145), (99, 20, 101), (91, 60, 109), (51, 140, 149), (19, 180, 181), (117, 44, 125), (105, 88, 137), (85, 132, 157), (57, 176, 185), (21, 220, 221), (143, 24, 145), (119, 120, 169), (95, 168, 193), (23, 264, 265), (165, 52, 173), (153, 104, 185), (133, 156, 205), (105, 208, 233), (69, 260, 269), (25, 312, 313), (195, 28, 197), (187, 84, 205), (171, 140, 221), (115, 252, 277), (75, 308, 317), (27, 364, 365), (221, 60, 229), (209, 120, 241), (161, 240, 289), (29, 420, 421), (255, 32, 257), (247, 96, 265), (231, 160, 281), (207, 224, 305), (175, 288, 337), (135, 352, 377), (87, 416, 425), (31, 480, 481), (285, 68, 293), (273, 136, 305), (253, 204, 325), (225, 272, 353), (189, 340, 389), (145, 408, 433), (93, 476, 485), (33, 544, 545), (323, 36, 325), (299, 180, 349), (275, 252, 373), (203, 396, 445), (155, 468, 493), (35, 612, 613), (357, 76, 365), (345, 152, 377), (325, 228, 397), (297, 304, 425), (261, 380, 461), (217, 456, 505), (165, 532, 557), (105, 608, 617), (37, 684, 685), (399, 40, 401), (391, 120, 409), (351, 280, 449), (319, 360, 481), (279, 440, 521), (231, 520, 569), (111, 680, 689), (39, 760, 761), (437, 84, 445), (425, 168, 457), (377, 336, 505), (341, 420, 541), (185, 672, 697), (41, 840, 841), (483, 44, 485), (475, 132, 493), (459, 220, 509), (435, 308, 533), (403, 396, 565), (315, 572, 653), (259, 660, 709), (195, 748, 773), (123, 836, 845), (43, 924, 925), (525, 92, 533), (513, 184, 545), (493, 276, 565), (465, 368, 593), (429, 460, 629), (385, 552, 673), (333, 644, 725), (273, 736, 785), (205, 828, 853), (129, 920, 929), (45, 1012, 1013)]\n",
      "--- 0.0030167102813720703 seconds ---\n"
     ]
    }
   ],
   "source": [
    "import time\n",
    "start_time = time.time()\n",
    "\n",
    "print(gen_triples(1000))\n",
    "\n",
    "print(\"--- %s seconds ---\" % (time.time() - start_time))"
   ]
  },
  {
   "cell_type": "code",
   "execution_count": 4,
   "metadata": {},
   "outputs": [
    {
     "name": "stdout",
     "output_type": "stream",
     "text": [
      "sum:  1000\n",
      "(8, 15, 17)  is a pythagorean triple\n",
      "(200, 375, 425)\n"
     ]
    }
   ],
   "source": [
    "print(\"sum: \", 25*(15+8+17))\n",
    "\n",
    "# returns True if this 3-tuple is a pythagorean triple\n",
    "def is_triple(triple):\n",
    "    if triple[0]*triple[0] + triple[1]*triple[1] == triple[2]*triple[2]:\n",
    "        print(triple, \" is a pythagorean triple\")\n",
    "        return True\n",
    "    print(triple, \" is not a pythagorean triple\")\n",
    "    return False\n",
    "\n",
    "is_triple((8,15,17))\n",
    "print((25*8, 25*15, 25*17))"
   ]
  },
  {
   "cell_type": "markdown",
   "metadata": {},
   "source": [
    "*Thus we have a pythagorean triple with a sum of 1000.*\n",
    "\n",
    "Using the theorem for finding primitive pythagorean triples on wikipedia we found increasingly larger triples with a limit to how high *c* could get. Setting the limit at 1000 ensures that we will have the primitve pythagorean triple associated with the solution. "
   ]
  },
  {
   "cell_type": "code",
   "execution_count": null,
   "metadata": {},
   "outputs": [],
   "source": []
  }
 ],
 "metadata": {
  "kernelspec": {
   "display_name": "Python 3",
   "language": "python",
   "name": "python3"
  },
  "language_info": {
   "codemirror_mode": {
    "name": "ipython",
    "version": 3
   },
   "file_extension": ".py",
   "mimetype": "text/x-python",
   "name": "python",
   "nbconvert_exporter": "python",
   "pygments_lexer": "ipython3",
   "version": "3.7.3"
  }
 },
 "nbformat": 4,
 "nbformat_minor": 2
}
