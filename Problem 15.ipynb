{
 "cells": [
  {
   "cell_type": "markdown",
   "metadata": {},
   "source": [
    "# Project Euler Problem 15\n",
    "\n",
    "Starting in the top left corner of a 2×2 grid, and only being able to move to the right and down, there are exactly 6 routes to the bottom right corner.\n",
    "\n",
    "![alt text](imagename.png \"Documents/p015.png\")\n",
    "\n",
    "How many such routes are there through a 20×20 grid?"
   ]
  },
  {
   "cell_type": "code",
   "execution_count": 1,
   "metadata": {},
   "outputs": [],
   "source": [
    "def count_path(max_row, max_col, row, col):\n",
    "    if (col+1) > max_col:\n",
    "        return 1\n",
    "    elif (row+1) > max_row:\n",
    "        return 1\n",
    "    \n",
    "    return count_path(max_row, max_col, row, col+1) + count_path(max_row, max_col, row+1, col)"
   ]
  },
  {
   "cell_type": "code",
   "execution_count": 5,
   "metadata": {},
   "outputs": [
    {
     "name": "stdout",
     "output_type": "stream",
     "text": [
      "Starting Timer!\n",
      "number of paths in 11x13 grid is 2496144\n",
      "--- 1.191587209701538 seconds ---\n"
     ]
    }
   ],
   "source": [
    "import time\n",
    "start_time = time.time()\n",
    "print(\"Starting Timer!\")\n",
    "\n",
    "max_row = 11\n",
    "max_col = 13\n",
    "row = 0\n",
    "col = 0\n",
    "print(\"number of paths in %dx%d grid is %d\" % (max_row, max_col, count_path(max_row, max_col, row, col)))\n",
    "\n",
    "print(\"--- %s seconds ---\" % (time.time() - start_time))"
   ]
  },
  {
   "cell_type": "markdown",
   "metadata": {},
   "source": [
    "847660528 is the correct solution, since it is (20 choose 10)\n",
    "There are 20 possible locations for a down or right, in order to get to the bottom corner we must take 10 rights and 10 \n",
    "downs to get to the bottom corner, also once we reach an edge we can just return 1 since their is only 1 path from that point.\n",
    "\n",
    "    It successfully mimics (max_row + max_col) choose (max_row)\n",
    "    \n",
    "Thus, it should work but takes way too long and required to find almost a billion paths that are 20 long. "
   ]
  }
 ],
 "metadata": {
  "kernelspec": {
   "display_name": "Python 3",
   "language": "python",
   "name": "python3"
  },
  "language_info": {
   "codemirror_mode": {
    "name": "ipython",
    "version": 3
   },
   "file_extension": ".py",
   "mimetype": "text/x-python",
   "name": "python",
   "nbconvert_exporter": "python",
   "pygments_lexer": "ipython3",
   "version": "3.7.3"
  }
 },
 "nbformat": 4,
 "nbformat_minor": 2
}
