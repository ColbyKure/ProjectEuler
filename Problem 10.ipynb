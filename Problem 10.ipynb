{
 "cells": [
  {
   "cell_type": "markdown",
   "metadata": {},
   "source": [
    "# Project Euler Problem 10\n",
    "\n",
    "**The sum of the primes below 10 is 2 + 3 + 5 + 7 = 17.**\n",
    "\n",
    "**Find the sum of all the primes below two million.**"
   ]
  },
  {
   "cell_type": "code",
   "execution_count": 1,
   "metadata": {},
   "outputs": [],
   "source": [
    "# helper function for prime_gen\n",
    "# returns index of the next 1 in the sieve which indicates the index of the next prime number\n",
    "def find_next_prime(index, sieve):\n",
    "    i = index + 1\n",
    "    while i < len(sieve):\n",
    "        if sieve[i] == 1:\n",
    "            return i\n",
    "        i += 1\n",
    "    return -1\n",
    "\n",
    "# Utilizes the sieve method for generating primes under k\n",
    "# returns a list of primes less than or equal to k\n",
    "def prime_gen(k):\n",
    "    sieve = [1] * k\n",
    "    sieve[0] = 0 # 1 is not prime\n",
    "    sieve[1] = 1 # 2 is prime\n",
    "    ind = 1\n",
    "    primes = []\n",
    "    while ind < k:\n",
    "        curr_prime = ind + 1\n",
    "        primes.append(curr_prime)\n",
    "        curr_ind = ind + curr_prime\n",
    "        while curr_ind < k:\n",
    "            sieve[curr_ind] = 0 # this number is not prime\n",
    "            curr_ind = curr_ind + curr_prime\n",
    "        ind = find_next_prime(ind, sieve)\n",
    "        if ind == -1:\n",
    "            break\n",
    "    return primes"
   ]
  },
  {
   "cell_type": "code",
   "execution_count": 2,
   "metadata": {},
   "outputs": [
    {
     "name": "stdout",
     "output_type": "stream",
     "text": [
      "[2, 3, 5, 7, 11, 13, 17, 19, 23, 29, 31, 37, 41, 43, 47, 53, 59, 61, 67, 71, 73, 79, 83, 89, 97, 101]\n"
     ]
    }
   ],
   "source": [
    "k = 101\n",
    "primes = prime_gen(k)\n",
    "\n",
    "print(primes)"
   ]
  },
  {
   "cell_type": "markdown",
   "metadata": {},
   "source": [
    "*looks like the sieve works and is able to find primes under and including k*"
   ]
  },
  {
   "cell_type": "code",
   "execution_count": 3,
   "metadata": {},
   "outputs": [
    {
     "name": "stdout",
     "output_type": "stream",
     "text": [
      "sum of primes under 2000000, is 142913828922\n",
      "--- 1.1477081775665283 seconds ---\n"
     ]
    }
   ],
   "source": [
    "import time\n",
    "start_time = time.time()\n",
    "\n",
    "k = 2000000\n",
    "primes = prime_gen(k)\n",
    "sum = 0\n",
    "for prime in primes:\n",
    "    sum += prime\n",
    "print(\"sum of primes under %d, is %d\" % (k, sum))\n",
    "\n",
    "print(\"--- %s seconds ---\" % (time.time() - start_time))"
   ]
  },
  {
   "cell_type": "code",
   "execution_count": 8,
   "metadata": {},
   "outputs": [
    {
     "name": "stdout",
     "output_type": "stream",
     "text": [
      "list of primes is 100.000000 percent prime\n"
     ]
    }
   ],
   "source": [
    "def is_prime(num):\n",
    "    if num == 2 | num == 3:\n",
    "        return True\n",
    "    if (num % 2) == 0 | (num % 3) == 0:\n",
    "        return False\n",
    "    \n",
    "    limit = int(num ** .5)\n",
    "    for i in range(5, limit+1):\n",
    "        if (num % i) == 0:\n",
    "            return False\n",
    "    \n",
    "    return True\n",
    "\n",
    "num_bad = 0\n",
    "num_good = 0\n",
    "for prime in primes:\n",
    "    if not(is_prime(prime)):\n",
    "        num_bad += 1\n",
    "    else:\n",
    "        num_good += 1\n",
    "print(\"list of primes is %f percent prime\" % (num_good/len(primes)*100))\n"
   ]
  },
  {
   "cell_type": "markdown",
   "metadata": {},
   "source": [
    "*Thus we know that we didnt find any non-primes in our list and are confident in the algorithm which is specifically used for finding primes below k.*"
   ]
  },
  {
   "cell_type": "code",
   "execution_count": null,
   "metadata": {},
   "outputs": [],
   "source": []
  }
 ],
 "metadata": {
  "kernelspec": {
   "display_name": "Python 3",
   "language": "python",
   "name": "python3"
  },
  "language_info": {
   "codemirror_mode": {
    "name": "ipython",
    "version": 3
   },
   "file_extension": ".py",
   "mimetype": "text/x-python",
   "name": "python",
   "nbconvert_exporter": "python",
   "pygments_lexer": "ipython3",
   "version": "3.7.3"
  }
 },
 "nbformat": 4,
 "nbformat_minor": 2
}
