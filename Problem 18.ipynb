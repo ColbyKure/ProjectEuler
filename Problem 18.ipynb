{
 "cells": [
  {
   "cell_type": "markdown",
   "metadata": {},
   "source": [
    "# Project Euler Problem 18\n",
    "\n",
    "<b>By starting at the top of the triangle below and moving to adjacent numbers on the row below, the maximum total from top to bottom is 23.</b>\n",
    "\n",
    "                    3\n",
    "                   7 4\n",
    "                  2 4 6\n",
    "                 8 5 9 3\n",
    "                 \n",
    "<b>That is, 3 + 7 + 4 + 9 = 23.\n",
    "\n",
    "Find the maximum total from top to bottom of the triangle below:</b>\n",
    "\n",
    "                                75\n",
    "                              95  64\n",
    "                            17  47  82\n",
    "                          18  35  87  10\n",
    "                        20  04  82  47  65\n",
    "                      19  01  23  75  03  34\n",
    "                    88  02  77  73  07  63  67\n",
    "                  99  65  04  28  06  16  70  92\n",
    "                41  41  26  56  83  40  80  70  33\n",
    "              41  48  72  33  47  32  37  16  94  29\n",
    "            53  71  44  65  25  43  91  52  97  51  14\n",
    "          70  11  33  28  77  73  17  78  39  68  17  57\n",
    "        91  71  52  38  17  14  91  43  58  50  27  29  48\n",
    "      63  66  04  68  89  53  67  30  73  16  69  87  40  31\n",
    "    04  62  98  27  23  09  70  98  73  93  38  53  60  04  23"
   ]
  },
  {
   "cell_type": "code",
   "execution_count": 1,
   "metadata": {},
   "outputs": [
    {
     "name": "stdout",
     "output_type": "stream",
     "text": [
      "[[75], [95, 64], [17, 47, 82], [18, 35, 87, 10], [20, 4, 82, 47, 65], [19, 1, 23, 75, 3, 34], [88, 2, 77, 73, 7, 63, 67], [99, 65, 4, 28, 6, 16, 70, 92], [41, 41, 26, 56, 83, 40, 80, 70, 33], [41, 48, 72, 33, 47, 32, 37, 16, 94, 29], [53, 71, 44, 65, 25, 43, 91, 52, 97, 51, 14], [70, 11, 33, 28, 77, 73, 17, 78, 39, 68, 17, 57], [91, 71, 52, 38, 17, 14, 91, 43, 58, 50, 27, 29, 48], [63, 66, 4, 68, 89, 53, 67, 30, 73, 16, 69, 87, 40, 31], [4, 62, 98, 27, 23, 9, 70, 98, 73, 93, 38, 53, 60, 4, 23]]\n"
     ]
    }
   ],
   "source": [
    "def load_tri_file(filename):\n",
    "    nums = [[]]\n",
    "    with open(filename,'r') as grid:\n",
    "        i = 0\n",
    "        for line in grid:\n",
    "            for num in str.split(line):\n",
    "                nums[i].append(int(num))\n",
    "            i += 1\n",
    "            if i >= 15:\n",
    "                break\n",
    "            nums.append([])\n",
    "    return nums\n",
    "\n",
    "triangle = load_tri_file('problem_18_tri.txt')\n",
    "print(triangle)"
   ]
  },
  {
   "cell_type": "code",
   "execution_count": 2,
   "metadata": {},
   "outputs": [
    {
     "name": "stdout",
     "output_type": "stream",
     "text": [
      "Starting Timer!\n",
      "====================\n",
      "original last row     [4, 62, 98, 27, 23, 9, 70, 98, 73, 93, 38, 53, 60, 4, 23]\n",
      "original 2nd last row [63, 66, 4, 68, 89, 53, 67, 30, 73, 16, 69, 87, 40, 31]\n",
      "new last row [125, 164, 102, 95, 112, 123, 165, 128, 166, 109, 122, 147, 100, 54]\n",
      "new last row [255, 235, 154, 150, 140, 179, 256, 209, 224, 172, 174, 176, 148]\n",
      "new last row [325, 246, 187, 178, 256, 329, 273, 302, 263, 242, 193, 233]\n",
      "new last row [378, 317, 231, 321, 354, 372, 393, 354, 360, 293, 247]\n",
      "new last row [419, 365, 393, 387, 419, 425, 430, 376, 454, 322]\n",
      "new last row [460, 434, 419, 475, 508, 470, 510, 524, 487]\n",
      "new last row [559, 499, 479, 536, 514, 526, 594, 616]\n",
      "new last row [647, 501, 613, 609, 533, 657, 683]\n",
      "new last row [666, 614, 636, 684, 660, 717]\n",
      "new last row [686, 640, 766, 731, 782]\n",
      "new last row [704, 801, 853, 792]\n",
      "new last row [818, 900, 935]\n",
      "new last row [995, 999]\n",
      "new last row [1074]\n",
      "Maximum Sum is: 1074\n",
      "====================\n",
      "--- 0.0029914379119873047 seconds ---\n"
     ]
    }
   ],
   "source": [
    "def get_sol(tri):\n",
    "    temp = tri\n",
    "    print(\"original last row    \", tri[len(tri)-1])\n",
    "    print(\"original 2nd last row\", tri[len(tri)-2])\n",
    "    for i in range(len(tri)-2,-1,-1):\n",
    "        for j in range(0,len(tri[i])):\n",
    "            #print(i,j,tri[i][j])\n",
    "            #print(tri[i+1][j])\n",
    "            #print(tri[i+1][j+1])\n",
    "            temp[i][j] = temp[i][j] + max(temp[i+1][j], temp[i+1][j+1])\n",
    "        print(\"new last row\", temp[i])\n",
    "    return temp[0][0]\n",
    "\n",
    "\n",
    "\n",
    "import time\n",
    "print(\"Starting Timer!\\n====================\")\n",
    "start_time = time.time()\n",
    "\n",
    "print(\"Maximum Sum is:\", get_sol(triangle))\n",
    "\n",
    "print(\"====================\\n--- %s seconds ---\" % (time.time() - start_time))"
   ]
  },
  {
   "cell_type": "markdown",
   "metadata": {},
   "source": [
    "*Thus 1074 is the solution*\n",
    "\n",
    "By using a dynamic programming solution the *new row* indicates the current bottom row of the triangle after absorbing the previous bottom of the triangle. Then, finally we reach the top of the triangle and again absorb the maximum of the two.\n",
    "\n",
    "Thus, 1074 is the max path, which is expected since numbers are 2 digits and we add up 15 of them."
   ]
  },
  {
   "cell_type": "code",
   "execution_count": null,
   "metadata": {},
   "outputs": [],
   "source": []
  }
 ],
 "metadata": {
  "kernelspec": {
   "display_name": "Python 3",
   "language": "python",
   "name": "python3"
  },
  "language_info": {
   "codemirror_mode": {
    "name": "ipython",
    "version": 3
   },
   "file_extension": ".py",
   "mimetype": "text/x-python",
   "name": "python",
   "nbconvert_exporter": "python",
   "pygments_lexer": "ipython3",
   "version": "3.7.3"
  }
 },
 "nbformat": 4,
 "nbformat_minor": 2
}
