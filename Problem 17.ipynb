{
 "cells": [
  {
   "cell_type": "markdown",
   "metadata": {},
   "source": [
    "# Project Euler Problem 17\n",
    "\n",
    "<b>If the numbers 1 to 5 are written out in words: one, two, three, four, five, then there are 3 + 3 + 5 + 4 + 4 = 19 letters used in total.\n",
    "\n",
    "If all the numbers from 1 to 1000 (one thousand) inclusive were written out in words, how many letters would be used?\n",
    "\n",
    "\n",
    "NOTE: Do not count spaces or hyphens. For example, 342 (three hundred and forty-two) contains 23 letters and 115 (one hundred and fifteen) contains 20 letters. The use of \"and\" when writing out numbers is in compliance with British usage.</b>"
   ]
  },
  {
   "cell_type": "code",
   "execution_count": 9,
   "metadata": {},
   "outputs": [],
   "source": [
    "initial = [0, len(\"one\"), len(\"two\"), len(\"three\"), len(\"four\"), len(\"five\"), len(\"six\"), len(\"seven\"),\n",
    "          len(\"eight\"), len(\"nine\"), len(\"ten\"), len(\"eleven\"), len(\"twelve\"), len(\"thirteen\"), len(\"fourteen\"),\n",
    "          len(\"fifteen\"), len(\"sixteen\"), len(\"seventeen\"), len(\"eighteen\"), len(\"nineteen\"), len(\"twenty\")]\n",
    "\n",
    "tens = [0, 0, 0, len(\"thirty\"), len(\"forty\"), len(\"fifty\"), len(\"sixty\"), len(\"seventy\"), len(\"eighty\"), len(\"ninety\")]\n",
    "\n",
    "hundred_len = len(\"hundred\")\n",
    "thousand_len = len(\"thousand\")\n",
    "and_len = len(\"and\")"
   ]
  },
  {
   "cell_type": "code",
   "execution_count": 10,
   "metadata": {},
   "outputs": [
    {
     "name": "stdout",
     "output_type": "stream",
     "text": [
      "[0, 3, 3, 5, 4, 4, 3, 5, 5, 4, 3, 6, 6, 8, 8, 7, 7, 9, 8, 8, 6]\n"
     ]
    }
   ],
   "source": [
    "print(initial)"
   ]
  },
  {
   "cell_type": "code",
   "execution_count": 28,
   "metadata": {},
   "outputs": [
    {
     "name": "stdout",
     "output_type": "stream",
     "text": [
      "Starting Timer!\n",
      "====================\n",
      "total number of characters is:  16678\n",
      "====================\n",
      "--- 0.012030601501464844 seconds ---\n"
     ]
    }
   ],
   "source": [
    "import time\n",
    "print(\"Starting Timer!\\n====================\")\n",
    "start_time = time.time()\n",
    "\n",
    "\n",
    "\n",
    "sum = 0\n",
    "for i in range(1, 1000):\n",
    "    if i <= 20:\n",
    "        sum += initial[i]\n",
    "    elif i < 30:\n",
    "        sum += (initial[20] + initial[i%10])\n",
    "    elif i < 100:\n",
    "        sum += (tens[int(i/10)] + initial[i%10])\n",
    "    elif (i % 100) == 0:\n",
    "        sum += (initial[int(i/100)] + hundred_len)\n",
    "    elif i < 1000:\n",
    "        sum += (initial[int(i/100)] + hundred_len + and_len + tens[int(int(i/100)/10)] + initial[i%10])\n",
    "sum += (len(\"one\") + thousand_len)\n",
    "print(\"total number of characters is: \", sum)\n",
    "\n",
    "\n",
    "\n",
    "print(\"====================\\n--- %s seconds ---\" % (time.time() - start_time))"
   ]
  },
  {
   "cell_type": "markdown",
   "metadata": {},
   "source": []
  }
 ],
 "metadata": {
  "kernelspec": {
   "display_name": "Python 3",
   "language": "python",
   "name": "python3"
  },
  "language_info": {
   "codemirror_mode": {
    "name": "ipython",
    "version": 3
   },
   "file_extension": ".py",
   "mimetype": "text/x-python",
   "name": "python",
   "nbconvert_exporter": "python",
   "pygments_lexer": "ipython3",
   "version": "3.7.3"
  }
 },
 "nbformat": 4,
 "nbformat_minor": 2
}
