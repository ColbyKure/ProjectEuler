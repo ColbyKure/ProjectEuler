{
 "cells": [
  {
   "cell_type": "markdown",
   "metadata": {},
   "source": [
    "# Project Euler Problem 20\n",
    ">\n",
    ">$ n! $ means $ n × (n − 1) × ... × 3 × 2 × 1 $\n",
    ">\n",
    ">For example, $ 10! = 10 × 9 × ... × 3 × 2 × 1 = 3628800 $<br>\n",
    ">and the sum of the digits in the number $ 10! $ is $ 3 + 6 + 2 + 8 + 8 + 0 + 0 = 27 $.\n",
    ">\n",
    "### Find the sum of the digits in the number 100!"
   ]
  },
  {
   "cell_type": "markdown",
   "metadata": {},
   "source": [
    "**Initially what do we know about $ 100! $**\n",
    ">\n",
    ">**1.** $ 100! $ is equal to $ n * 10^k $<br>\n",
    ">**2.** The sum of digits of $ n $ is equal to the sum of digits of $ 100! $<br>\n",
    ">**3.** The sum of digits of $ n $ is a multiple of 9 b/c $ 100! $ is a multiple of 9<br>\n",
    ">**4.** The RHS of $ 100! $ has 24 zeros b/c $ 100! $ is a multiple of $ 5^{24} $\n"
   ]
  },
  {
   "cell_type": "code",
   "execution_count": 1,
   "metadata": {},
   "outputs": [
    {
     "name": "stdout",
     "output_type": "stream",
     "text": [
      "15! = 1307674368000\n",
      "100! = 93326215443944152681699238856266700490715968264381621468592963895217599993229915608941463976156518286253697920827223758251185210916864000000000000000000000000\n"
     ]
    }
   ],
   "source": [
    "def factorial(num):\n",
    "    fact = 1\n",
    "    for i in range(1,num+1): \n",
    "        fact = fact * i \n",
    "    return fact\n",
    "\n",
    "print(\"15! =\", factorial(15))\n",
    "print(\"100! =\", factorial(100))"
   ]
  },
  {
   "cell_type": "code",
   "execution_count": 2,
   "metadata": {},
   "outputs": [
    {
     "name": "stdout",
     "output_type": "stream",
     "text": [
      "sum of digits of 10! = 27\n",
      "sum of digits of 15! = 45\n",
      "\n",
      "sum of digits of ( 1 )! is 1\n",
      "sum of digits of ( 2 )! is 2\n",
      "sum of digits of ( 3 )! is 6\n",
      "sum of digits of ( 4 )! is 6\n",
      "sum of digits of ( 5 )! is 3\n",
      "sum of digits of ( 6 )! is 9\n",
      "sum of digits of ( 7 )! is 9\n",
      "sum of digits of ( 8 )! is 9\n",
      "sum of digits of ( 9 )! is 27\n",
      "sum of digits of ( 10 )! is 27\n",
      "sum of digits of ( 11 )! is 36\n",
      "sum of digits of ( 12 )! is 27\n",
      "sum of digits of ( 13 )! is 27\n",
      "sum of digits of ( 14 )! is 45\n",
      "sum of digits of ( 15 )! is 45\n",
      "sum of digits of ( 16 )! is 63\n",
      "sum of digits of ( 17 )! is 63\n",
      "sum of digits of ( 18 )! is 54\n",
      "sum of digits of ( 19 )! is 45\n",
      "sum of digits of ( 20 )! is 54\n",
      "sum of digits of ( 21 )! is 63\n",
      "sum of digits of ( 22 )! is 72\n",
      "sum of digits of ( 23 )! is 99\n",
      "sum of digits of ( 24 )! is 81\n",
      "\n",
      "sum of digits of 100! = 648\n"
     ]
    }
   ],
   "source": [
    "def sum_digits(num):\n",
    "    digits = str(num)\n",
    "    sum = 0\n",
    "    for digit in digits:\n",
    "        sum += int(digit)\n",
    "    return sum\n",
    "        \n",
    "print(\"sum of digits of 10! =\", sum_digits(factorial(10)))\n",
    "print(\"sum of digits of 15! =\", sum_digits(factorial(15)))\n",
    "\n",
    "print()\n",
    "for i in range(1, 25):\n",
    "    print(\"sum of digits of (\", i, \")! is\", sum_digits(factorial(i)))\n",
    "print()\n",
    "\n",
    "\n",
    "print(\"sum of digits of 100! =\", sum_digits(factorial(100)))"
   ]
  },
  {
   "cell_type": "markdown",
   "metadata": {},
   "source": [
    "*YAY! we got the correct answer but kinda too easily. Most languages dont support big numbers like python does.*\n",
    "\n",
    "This problem would normally require an array of LinkedList structure in-order to save all the digits in $ 100! $<br>"
   ]
  },
  {
   "cell_type": "code",
   "execution_count": 3,
   "metadata": {},
   "outputs": [],
   "source": [
    "class BigNum:\n",
    "    digits = [1]\n",
    "    def __init__(self):\n",
    "        pass\n",
    "    def multiply(self, num):\n",
    "        pass\n",
    "    def sum_digits(self):\n",
    "        pass"
   ]
  },
  {
   "cell_type": "code",
   "execution_count": 4,
   "metadata": {},
   "outputs": [],
   "source": [
    "num = BigNum()"
   ]
  }
 ],
 "metadata": {
  "kernelspec": {
   "display_name": "Python 3",
   "language": "python",
   "name": "python3"
  },
  "language_info": {
   "codemirror_mode": {
    "name": "ipython",
    "version": 3
   },
   "file_extension": ".py",
   "mimetype": "text/x-python",
   "name": "python",
   "nbconvert_exporter": "python",
   "pygments_lexer": "ipython3",
   "version": "3.7.3"
  }
 },
 "nbformat": 4,
 "nbformat_minor": 2
}
