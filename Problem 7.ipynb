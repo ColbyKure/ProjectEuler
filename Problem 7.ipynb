{
 "cells": [
  {
   "cell_type": "markdown",
   "metadata": {},
   "source": [
    "# Project Euler: Problem 7"
   ]
  },
  {
   "cell_type": "markdown",
   "metadata": {},
   "source": [
    "Find 10001st prime number"
   ]
  },
  {
   "cell_type": "markdown",
   "metadata": {},
   "source": [
    "We want the first 10,001 prime numbers which is relatively small for computing, but we can still take some shortcuts since I assume this will be used in the future. Thus, I we will also make it a function rather than straight code as I have been. \n",
    "\n",
    "The first shortcut is that we know the first few prime numbers 2, 3, 5, 7, ... \n",
    "From Number Theory which is largely the study of prime number we can extrapolate that all prime numbers greater than 3, are only 1 away from 6.\n",
    "\n",
    "But Why? We can write all positive integers into 6 equal sets, {6x}, {6x+1}, {6x+2}, {6x+3}, {6x+4}, {6x+5}\n",
    "The sets, {6x}, {6x+2}, {6x+4} are all even numbers greater than 2, so they are not prime.\n",
    "The set {6x+3} is a multiple of 3, and thus not prime. \n",
    "Leaving only the 2 sets that are 1 away from a multiple of 6, {6x+1}, {6x+5}=={6x-1}\n",
    "\n",
    "pi(x) is the number of prime numbers less than x\n",
    "pi(x) ~ nlog(n)\n",
    "10001 = x/log(x)\n",
    "\n",
    "so we look through 1 to 175,000 for prime numbers and will find at least 10001 of them"
   ]
  },
  {
   "cell_type": "code",
   "execution_count": null,
   "metadata": {},
   "outputs": [],
   "source": [
    "def is_prime(n):\n",
    "    j = 6\n",
    "    if n == 2:\n",
    "        return True\n",
    "    elif (n % 2) == 0:\n",
    "        return False\n",
    "    if n == 3:\n",
    "        return True\n",
    "    elif (n % 3) == 0:\n",
    "        return False\n",
    "\n",
    "    if n == 5:\n",
    "        return True\n",
    "    while True:\n",
    "        if j - 1 >= n:\n",
    "            break\n",
    "        elif (n % (j - 1)) == 0:\n",
    "            return False\n",
    "\n",
    "        elif j + 1 >= n:\n",
    "            break\n",
    "        elif (n % (j + 1)) == 0:\n",
    "            return False\n",
    "        else:\n",
    "            j += 6\n",
    "    return True\n",
    "\n",
    "def is_list_prime(prime_list, curr):\n",
    "    for prime in prime_list:\n",
    "        if (curr % prime) == 0:\n",
    "            return False\n",
    "        if prime > int(curr**.5):\n",
    "            break\n",
    "    return True\n",
    "\n",
    "def get_kth_prime(k):\n",
    "    primes = [2, 3]\n",
    "    a = 5\n",
    "    b = 7\n",
    "    count = 2\n",
    "    while True:\n",
    "        if is_list_prime(primes, a):\n",
    "            count += 1\n",
    "            primes.append(a)\n",
    "        if count >= k:\n",
    "            break\n",
    "        a += 6\n",
    "\n",
    "        if is_list_prime(primes, b):\n",
    "            count +=1\n",
    "            primes.append(b)\n",
    "        if count >= k:\n",
    "            break\n",
    "        b += 6\n",
    "    #end while\n",
    "    if a < b:\n",
    "        return b\n",
    "    return a\n",
    "\n",
    "print(\"Running...\")\n",
    "num_primes = 0\n",
    "for i in range(2,108000):\n",
    "    if is_prime(i):\n",
    "        num_primes += 1\n",
    "        if num_primes == 10001:\n",
    "            print(num_primes, \": \", i)\n",
    "            break"
   ]
  },
  {
   "cell_type": "markdown",
   "metadata": {},
   "source": [
    "Ran it on my own computer via PyCharm and got output: 104743 which is correct!\n",
    "Probably takes too long to run it here"
   ]
  },
  {
   "cell_type": "code",
   "execution_count": null,
   "metadata": {},
   "outputs": [],
   "source": []
  }
 ],
 "metadata": {
  "kernelspec": {
   "display_name": "Python 3",
   "language": "python",
   "name": "python3"
  },
  "language_info": {
   "codemirror_mode": {
    "name": "ipython",
    "version": 3
   },
   "file_extension": ".py",
   "mimetype": "text/x-python",
   "name": "python",
   "nbconvert_exporter": "python",
   "pygments_lexer": "ipython3",
   "version": "3.7.3"
  }
 },
 "nbformat": 4,
 "nbformat_minor": 2
}
