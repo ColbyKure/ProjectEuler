{
 "cells": [
  {
   "cell_type": "markdown",
   "metadata": {},
   "source": [
    "# Project Euler Problem 13\n",
    "\n",
    "**Work out the first ten digits of the sum of the following one-hundred 50-digit numbers.**"
   ]
  },
  {
   "cell_type": "markdown",
   "metadata": {},
   "source": [
    "I loaded the numbers in a text file called \"Problem_13_grid.txt\" "
   ]
  },
  {
   "cell_type": "code",
   "execution_count": 1,
   "metadata": {},
   "outputs": [
    {
     "name": "stdout",
     "output_type": "stream",
     "text": [
      "5537376230390876637302048746832985971773659831892672\n",
      "first 10-digits are:  5537376230\n",
      "--- 0.0 seconds ---\n"
     ]
    }
   ],
   "source": [
    "import numpy as np\n",
    "\n",
    "def load_nums(filename):\n",
    "    nums = []\n",
    "    with open(filename,'r') as grid:\n",
    "        for line in grid:\n",
    "            nums.append(int(line))\n",
    "    return nums\n",
    "\n",
    "\n",
    "\n",
    "\n",
    "\n",
    "import time\n",
    "start_time = time.time()\n",
    "\n",
    "\n",
    "\n",
    "grid = load_nums('Problem_13_grid.txt')\n",
    "#print(grid)\n",
    "sum = np.sum(grid)\n",
    "print(sum)\n",
    "\n",
    "str_sum = str(sum)\n",
    "count = 0\n",
    "solution = \"\"\n",
    "for char in str_sum:\n",
    "    count += 1\n",
    "    solution = solution + char\n",
    "    if count >= 10:\n",
    "        break\n",
    "print(\"first 10-digits are: \", solution)\n",
    "\n",
    "\n",
    "\n",
    "print(\"--- %s seconds ---\" % (time.time() - start_time))"
   ]
  },
  {
   "cell_type": "code",
   "execution_count": null,
   "metadata": {},
   "outputs": [],
   "source": []
  }
 ],
 "metadata": {
  "kernelspec": {
   "display_name": "Python 3",
   "language": "python",
   "name": "python3"
  },
  "language_info": {
   "codemirror_mode": {
    "name": "ipython",
    "version": 3
   },
   "file_extension": ".py",
   "mimetype": "text/x-python",
   "name": "python",
   "nbconvert_exporter": "python",
   "pygments_lexer": "ipython3",
   "version": "3.7.3"
  }
 },
 "nbformat": 4,
 "nbformat_minor": 2
}
