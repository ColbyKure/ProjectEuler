{
 "cells": [
  {
   "cell_type": "markdown",
   "metadata": {},
   "source": [
    "# Project Euler: Problem 3"
   ]
  },
  {
   "cell_type": "markdown",
   "metadata": {},
   "source": [
    "The prime factors of 13195 are 5, 7, 13 and 29.\n",
    "\n",
    "What is the largest prime factor of the number 600851475143?"
   ]
  },
  {
   "cell_type": "code",
   "execution_count": 13,
   "metadata": {},
   "outputs": [
    {
     "name": "stdout",
     "output_type": "stream",
     "text": [
      "newNum:  8462696833\n",
      "newNum:  10086647\n",
      "newNum:  6857\n",
      "ans:  6857\n"
     ]
    }
   ],
   "source": [
    "import math\n",
    "\n",
    "num = 600851475143\n",
    "min = -1\n",
    "while True:\n",
    "    min = -1\n",
    "    flag = 0\n",
    "    for i in range(2, int(math.sqrt(num))):\n",
    "        if (num % i) == 0 and flag == 0:\n",
    "            min = i\n",
    "            flag = 1\n",
    "    if min == -1:\n",
    "        break\n",
    "    num = num / min\n",
    "    print(\"newNum: \", int(num))\n",
    "    \n",
    "print(\"ans: \", int(num))"
   ]
  },
  {
   "cell_type": "markdown",
   "metadata": {},
   "source": [
    "At the very least we must check if 600851475243 is itself a prime divisor and if it is we return it as the largest prime divisor. \n",
    "\n",
    "Otherwise, we want to find the largest prime divisor, which is mathematically analagous to the smallest prime. And thus, the smallest divisor strictly above 1. The smallest or first divisor we find is the smallest and is always prime. This fact follows directly from the definition of prime numbers. \n",
    "We then divide this prime which is the smallest and then get a new number which we find the smallest prime divisor for with the same method. Thus, at the end we will reach the last number which will be the largest prime divisor."
   ]
  },
  {
   "cell_type": "markdown",
   "metadata": {},
   "source": [
    "# Congratulations, the answer you gave to problem 3 is correct.\n",
    "\n",
    "# You are the 516103rd person to have solved this problem."
   ]
  }
 ],
 "metadata": {
  "kernelspec": {
   "display_name": "Python 3",
   "language": "python",
   "name": "python3"
  },
  "language_info": {
   "codemirror_mode": {
    "name": "ipython",
    "version": 3
   },
   "file_extension": ".py",
   "mimetype": "text/x-python",
   "name": "python",
   "nbconvert_exporter": "python",
   "pygments_lexer": "ipython3",
   "version": "3.7.3"
  }
 },
 "nbformat": 4,
 "nbformat_minor": 2
}
