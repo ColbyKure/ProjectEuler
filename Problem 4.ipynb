{
 "cells": [
  {
   "cell_type": "markdown",
   "metadata": {},
   "source": [
    "# Project Euler: Problem 4"
   ]
  },
  {
   "cell_type": "markdown",
   "metadata": {},
   "source": [
    "A palindromic number reads the same both ways. The largest palindrome made from the product of two 2-digit numbers is 9009 = 91 × 99.\n",
    "\n",
    "Find the largest palindrome made from the product of two 3-digit numbers."
   ]
  },
  {
   "cell_type": "markdown",
   "metadata": {},
   "source": [
    "To find a palindrome is very difficult because before the multiplication we do not know if the product will be a palindrome or not. Thus, we need to code a function that takes in an int and tells us whether or not it is a palindrome."
   ]
  },
  {
   "cell_type": "code",
   "execution_count": 3,
   "metadata": {},
   "outputs": [
    {
     "name": "stdout",
     "output_type": "stream",
     "text": [
      "ans:  906609\n"
     ]
    }
   ],
   "source": [
    "import math \n",
    "   \n",
    "# the recursive function to reverse \n",
    "def rev(num): \n",
    "    return int(num != 0) and ((num % 10) * (10**int(math.log(num, 10))) + rev(num // 10))\n",
    "\n",
    "max_palin = -1\n",
    "prod = 0\n",
    "for i in range(999,100,-1):\n",
    "    for j in range(999,100,-1):\n",
    "        prod = i*j\n",
    "        if rev(prod) == prod:\n",
    "            if prod > max_palin:\n",
    "                max_palin = prod\n",
    "if max_palin == -1:\n",
    "    print(\"palin not found\")\n",
    "else:\n",
    "    print(\"ans: \", max_palin)"
   ]
  },
  {
   "cell_type": "markdown",
   "metadata": {},
   "source": [
    "Exhaustive search of 3 digit products then checks if the prod is a palindrome."
   ]
  },
  {
   "cell_type": "markdown",
   "metadata": {},
   "source": [
    "# Confirmed correct! "
   ]
  },
  {
   "cell_type": "code",
   "execution_count": null,
   "metadata": {},
   "outputs": [],
   "source": []
  }
 ],
 "metadata": {
  "kernelspec": {
   "display_name": "Python 3",
   "language": "python",
   "name": "python3"
  },
  "language_info": {
   "codemirror_mode": {
    "name": "ipython",
    "version": 3
   },
   "file_extension": ".py",
   "mimetype": "text/x-python",
   "name": "python",
   "nbconvert_exporter": "python",
   "pygments_lexer": "ipython3",
   "version": "3.7.3"
  }
 },
 "nbformat": 4,
 "nbformat_minor": 2
}
